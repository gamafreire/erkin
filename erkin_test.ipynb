{
 "cells": [
  {
   "cell_type": "markdown",
   "id": "390a576c",
   "metadata": {},
   "source": [
    "<h1><div ;=\"\" align=\"center\">\n",
    "                 <big style=\"color: rgb(100, 150, 200);\">Ensino de Engenharia Química com Python</big></div>\n",
    "</h1>\n",
    "<table align=\"center\">\n",
    "<tbody>\n",
    "<tr>\n",
    "      <td width=\"300\" align=\"center\">\n",
    "                                    <h1><a href=\"http://virtualabs.tecnico.ulisboa.pt/virtual/index.html\">Virtualabs</a>\n",
    "                                    </h1></td>\n",
    "      <td width=\"100\" align=\"center\"><br></td>\n",
    "      <td width=\"400\" align=\"center\">\n",
    "              <big style=\"color: rgb(91, 179, 229);\"><h1>Python</h1></big></td>\n",
    "</tr>\n",
    "<tr>\n",
    "      <td align=\"center\">\n",
    "             <a href=\"http://custodians.online/portuguese.html\">En solidaridad con Library Genesis y Sci-Hub</a>\n",
    "                                </td>\n",
    "      <td><br></td>\n",
    "      <td align=\"center\">SAGE e Python em Engenharia Químicas</td>\n",
    "</tr>\n",
    "<tr>\n",
    "      <td align=\"center\">\n",
    "            <a href=\"https://gamafreire.github.io\">VIRTUAis LABoratoriaiS no GitHub</a></td>\n",
    "       <td><br></td>\n",
    "      <td align=\"center\">Python em português</td></tr>\n",
    "<tr>\n",
    "      <td width=\"10\" align=\"center\"></td>\n",
    "      <td align=\"center\"><a>\n",
    "            <img style=\"border: 0px solid ;\" alt=\"OpenSource\" src=\"http://virtualabs.ist.utl.pt/osi_keyhole.png\" align=\"middle\"></a></td>\n",
    "        <td align=\"center\">Incrementar o uso de OpenSource no ensino\n",
    "             <a><img style=\"border: 0px solid ;\" alt=\"Python\" src=\"http://virtualabs.ist.utl.pt/python-logo_4.png\" align=\"middle\"></a>\n",
    "</td></tr>\n",
    "</tbody>\n",
    "</table>\n",
    "                    \n",
    "<div class=\"jp-RenderedHTMLCommon jp-RenderedMarkdown jp-MarkdownOutput \" data-mime-type=\"text/markdown\">\n",
    "        <p></p>\n",
    "        <hr style=\"border: 0pt none ; background-color: rgb(83, 79, 154); height: 5px;\">\n",
    "    </div>\n",
    "                    \n",
    "## ERKin\n",
    "\n",
    "Como confirmar a resolução dos, quase todos, problemas de cinética química de disciplinas como engenharia das reacções ou química-fisíca?\n",
    "\n",
    "Calculam-se, de forma muito simples para o utilizador, k, n e Co ou ko e Ea de dados cinéticos.\n",
    "\n",
    "Estas pequenas funções permitem assim resolver a maioria dos problemas de determinação de parâmetros a partir de ensaios em descontínuo.\n",
    "\n",
    "**ERKin** contem duas funções:\n",
    "- cinetica  - determina Co, k e n\n",
    "- ERA - determina ko e Ea\n",
    "\n",
    "\n",
    "#### Limitações\n",
    "\n",
    "- **cinetica**                \n",
    "\n",
    "Os dados (método diferencial ou integral) têm de ser duas listas, uma de concentrações ou conversão obtidos num reactor descontínuo (batch) a temperatura constante e a outra, uma lista com os tempos correspondentes.\n",
    "\n",
    "A lei de velocidade da reacção tem de ser da forma\n",
    "\n",
    "$$\\Re=kC^n$$\n",
    "\n",
    "que integrada é ajustada, sem linearização, em ordem a k, Co e n.\n",
    "\n",
    "Se os dados forem de concentração de produto, têm de ser postos em termos de concentração de reagente.\n",
    "\n",
    "    \n",
    "- **ERA**\n",
    "\n",
    "Os dados têm de ser duas listas. Uma com as temperaturas (ºC ou K) e a outra as constantes de velocidade correspondentes.\n",
    "\n",
    "Trata-se de ajustar, sem linearizar, a **equação de Arrhenius** aos dados $$ k=ko\\ e^{-\\dfrac{Ea}{RT}}$$\n",
    "\n",
    "\n",
    "Tem de fornecer pelo menos 2 constantes em função da temperatura em ºC. Se estiverem em K é só ver exemplo abaixo.\n",
    "\n",
    "                    \n",
    "<div class=\"jp-RenderedHTMLCommon jp-RenderedMarkdown jp-MarkdownOutput \" data-mime-type=\"text/markdown\">\n",
    "        <p></p>\n",
    "        <hr style=\"border: 0pt none ; background-color: rgb(83, 79, 154); height: 5px;\">\n",
    "    <a href=\"./cine.html\"> Voltar ao início</a></div>\n",
    "    \n",
    "### 1 - Instalação\n",
    "\n",
    "Fazer download do ficheiro <a href=\"./erkin.py\" download=\" erkin.py\">erkin.py</a> (v2.0, separador decimal com vírgulas em vez de ponto) e movê-lo para o sítio dos seus cálculos.\n",
    "\n",
    "Claro que precisa ter instalados os pacotes matplotlib e scipy\n",
    "\n",
    "### 2 - Testes\n",
    "\n",
    "Se copiar o ficheiro erkin para uma célula em Jupyter e mandar executar deve obter o mesmo resultado que:"
   ]
  },
  {
   "cell_type": "code",
   "execution_count": 1,
   "id": "cf4b5507",
   "metadata": {},
   "outputs": [
    {
     "data": {
      "text/latex": [
       "$\\displaystyle k = 0,98\\ (\\pm 0,016)\\times 10^{-4}$"
      ],
      "text/plain": [
       "<IPython.core.display.Math object>"
      ]
     },
     "metadata": {},
     "output_type": "display_data"
    },
    {
     "data": {
      "text/latex": [
       "$\\displaystyle n = 2,003\\ (\\pm 0,0028)$"
      ],
      "text/plain": [
       "<IPython.core.display.Math object>"
      ]
     },
     "metadata": {},
     "output_type": "display_data"
    },
    {
     "data": {
      "text/latex": [
       "$\\displaystyle Co = 1,0004\\ (\\pm 0,00184)\\times 10^{3}$"
      ],
      "text/plain": [
       "<IPython.core.display.Math object>"
      ]
     },
     "metadata": {},
     "output_type": "display_data"
    },
    {
     "data": {
      "text/latex": [
       "$\\displaystyle ko = 1,479\\ (\\pm 0,0609)\\times 10^{11}$"
      ],
      "text/plain": [
       "<IPython.core.display.Math object>"
      ]
     },
     "metadata": {},
     "output_type": "display_data"
    },
    {
     "data": {
      "text/latex": [
       "$\\displaystyle Ea\\ \\ (J/mol) = 6,35\\ (\\pm 0,166)\\times 10^{4}$"
      ],
      "text/plain": [
       "<IPython.core.display.Math object>"
      ]
     },
     "metadata": {},
     "output_type": "display_data"
    },
    {
     "data": {
      "image/png": "[encoded data removed]",
      "text/plain": [
       "<Figure size 640x480 with 1 Axes>"
      ]
     },
     "metadata": {},
     "output_type": "display_data"
    }
   ],
   "source": [
    "from erkin import cinetica, ERA\n",
    "\n",
    "#    Teste de cinetica\n",
    "X=[0, 10, 20, 40]\n",
    "Y=[1000, 500, 333, 200]\n",
    "fit, erros = cinetica(X,Y)\n",
    "\n",
    "#    Teste de ERA\n",
    "X=[20, 70, 50]\n",
    "Y=[1, 32, 8]\n",
    "fit, erros = ERA(X,Y, grafico=True)"
   ]
  },
  {
   "cell_type": "markdown",
   "id": "8ac7ce52",
   "metadata": {},
   "source": [
    "## Cinetica\n",
    "\n",
    "\n",
    "### 3 - 1º Exemplo\n",
    "\n",
    "Numa folha de Jupyter faça o seguinte teste de tempo vs. concentração."
   ]
  },
  {
   "cell_type": "code",
   "execution_count": 2,
   "id": "00dc76d2",
   "metadata": {},
   "outputs": [
    {
     "data": {
      "text/latex": [
       "$\\displaystyle k = 0,1379\\ (\\pm 0,00020)\\times 10^{-1}$"
      ],
      "text/plain": [
       "<IPython.core.display.Math object>"
      ]
     },
     "metadata": {},
     "output_type": "display_data"
    },
    {
     "data": {
      "text/latex": [
       "$\\displaystyle n = 1,000\\ (\\pm 0,0015)$"
      ],
      "text/plain": [
       "<IPython.core.display.Math object>"
      ]
     },
     "metadata": {},
     "output_type": "display_data"
    },
    {
     "data": {
      "text/latex": [
       "$\\displaystyle Co = 2,503\\ (\\pm 0,0050)$"
      ],
      "text/plain": [
       "<IPython.core.display.Math object>"
      ]
     },
     "metadata": {},
     "output_type": "display_data"
    }
   ],
   "source": [
    "from erkin import cinetica\n",
    "\n",
    "t = [0,50,100,150,200,250]\n",
    "C = [2.50,1.26,0.630,0.316,0.159,0.0798]\n",
    "\n",
    "Ans= cinetica(t, C)   "
   ]
  },
  {
   "cell_type": "markdown",
   "id": "c36cc1b0",
   "metadata": {},
   "source": [
    "Pode experimentar num script sem ser em Jupyter, mas o resultado não fica visível, embora a resposta esteja contida na variável Ans.\n",
    "### 4 - 2º Exemplo\n",
    "\n",
    "Teste de tempo vs. conversão com apresentação do gráfico do ajuste.\n",
    "\n",
    "Notar que todos os dados disponibilizados pelo scipy.optimize.least_squares estão disponíveis."
   ]
  },
  {
   "cell_type": "code",
   "execution_count": 3,
   "id": "02e68b2d",
   "metadata": {},
   "outputs": [
    {
     "data": {
      "text/latex": [
       "$\\displaystyle kCo^{(n-1)} = 0,1003\\ (\\pm 0,00030)$"
      ],
      "text/plain": [
       "<IPython.core.display.Math object>"
      ]
     },
     "metadata": {},
     "output_type": "display_data"
    },
    {
     "data": {
      "text/latex": [
       "$\\displaystyle n = 2,003\\ (\\pm 0,0028)$"
      ],
      "text/plain": [
       "<IPython.core.display.Math object>"
      ]
     },
     "metadata": {},
     "output_type": "display_data"
    },
    {
     "data": {
      "image/png": "[encoded data removed]",
      "text/plain": [
       "<Figure size 640x480 with 1 Axes>"
      ]
     },
     "metadata": {},
     "output_type": "display_data"
    }
   ],
   "source": [
    "t = [0, 10, 20, 40]\n",
    "Y = [1000, 500, 333, 200]\n",
    "X = [1-i/Y[0] for i in Y]    # cálculo da conversão.\n",
    "\n",
    "Ans = cinetica(t, X, conversao = True, grafico = True)"
   ]
  },
  {
   "cell_type": "code",
   "execution_count": 4,
   "id": "fe314b67",
   "metadata": {},
   "outputs": [
    {
     "data": {
      "text/plain": [
       "( active_mask: array([0, 0, 0])\n",
       "         cost: 0.00017771857266617308\n",
       "          fun: array([-0.00442202,  0.01377301, -0.01183324,  0.00248225])\n",
       "         grad: array([ 2.05107353e-09, -5.18756954e-10, -1.82163265e-09])\n",
       "          jac: array([[ 4.40948704e-02,  9.66196711e-07, -9.96279573e+00],\n",
       "        [ 9.95791417e+01, -3.85694205e+00, -9.96279564e+00],\n",
       "        [ 1.99550959e+02, -1.29817082e+01, -9.96279552e+00],\n",
       "        [ 3.98841173e+02, -4.04849802e+01, -9.96279600e+00]])\n",
       "      message: '`gtol` termination condition is satisfied.'\n",
       "         nfev: 6\n",
       "         njev: 6\n",
       "   optimality: 1.8216326502784597e-09\n",
       "       status: 1\n",
       "      success: True\n",
       "            x: array([0.10028431, 2.0026347 , 1.00044366]),\n",
       " array([0.00030052, 0.0028018 , 0.00184051]))"
      ]
     },
     "execution_count": 4,
     "metadata": {},
     "output_type": "execute_result"
    }
   ],
   "source": [
    "Ans"
   ]
  },
  {
   "cell_type": "markdown",
   "id": "51c69582",
   "metadata": {},
   "source": [
    "### 5 - 3º Exemplo\n",
    "\n",
    "Teste de tempo vs. concnetração de produto da reacção $2A\\to B$.\n",
    "\n",
    "Problema resolvido tradicionalmente em \n",
    "http://virtualabs.tecnico.ulisboa.pt/ERI/cinetica/python/AnaliseIntegral.html\n",
    "\n",
    "A reacção  2A→B\n",
    "  em fase líquida ocorre num reactor batch isotérmico. O número inicial de moles de A  nAo=8 mol\n",
    " .\n",
    "Dados: nº de moles de B em função do tempo."
   ]
  },
  {
   "cell_type": "code",
   "execution_count": 5,
   "id": "271e8bee",
   "metadata": {},
   "outputs": [
    {
     "data": {
      "text/latex": [
       "$\\displaystyle k = 0,201\\ (\\pm 0,0056)\\times 10^{-2}$"
      ],
      "text/plain": [
       "<IPython.core.display.Math object>"
      ]
     },
     "metadata": {},
     "output_type": "display_data"
    },
    {
     "data": {
      "text/latex": [
       "$\\displaystyle n = 1,00\\ (\\pm 0,020)$"
      ],
      "text/plain": [
       "<IPython.core.display.Math object>"
      ]
     },
     "metadata": {},
     "output_type": "display_data"
    },
    {
     "data": {
      "text/latex": [
       "$\\displaystyle Co = 8,01\\ (\\pm 0,028)$"
      ],
      "text/plain": [
       "<IPython.core.display.Math object>"
      ]
     },
     "metadata": {},
     "output_type": "display_data"
    }
   ],
   "source": [
    "nAo=8\n",
    "t=[0,30,81,124,178,240,299,450,690]      # (s)\n",
    "nB=[0,0.24,0.6,0.88,1.2,1.52,1.8,2.4,3]  # (mol)\n",
    "C=[nAo-2*i for i in nB]\n",
    "Ans = cinetica(t, C)"
   ]
  },
  {
   "cell_type": "code",
   "execution_count": 6,
   "id": "9528296f",
   "metadata": {},
   "outputs": [
    {
     "data": {
      "text/latex": [
       "$\\displaystyle k = 0,719\\ (\\pm 0,0070)\\times 10^{-1}$"
      ],
      "text/plain": [
       "<IPython.core.display.Math object>"
      ]
     },
     "metadata": {},
     "output_type": "display_data"
    },
    {
     "data": {
      "text/latex": [
       "$\\displaystyle n = 1,05\\ (\\pm 0,021)$"
      ],
      "text/plain": [
       "<IPython.core.display.Math object>"
      ]
     },
     "metadata": {},
     "output_type": "display_data"
    },
    {
     "data": {
      "text/latex": [
       "$\\displaystyle Co = 2,09\\ (\\pm 0,023)$"
      ],
      "text/plain": [
       "<IPython.core.display.Math object>"
      ]
     },
     "metadata": {},
     "output_type": "display_data"
    },
    {
     "data": {
      "text/plain": [
       "list"
      ]
     },
     "execution_count": 6,
     "metadata": {},
     "output_type": "execute_result"
    }
   ],
   "source": [
    "from erkin import cinetica\n",
    "t=[0, 10, 20, 30]\n",
    "C=[2.1, 1, 0.5, 0.25]\n",
    "ans=cinetica(t,C)\n",
    "type(t)"
   ]
  },
  {
   "cell_type": "markdown",
   "id": "9cd24322",
   "metadata": {},
   "source": [
    "### 6  - Help"
   ]
  },
  {
   "cell_type": "code",
   "execution_count": 7,
   "id": "1d9aaf41",
   "metadata": {},
   "outputs": [],
   "source": [
    "cinetica?"
   ]
  },
  {
   "cell_type": "markdown",
   "id": "dcecd70d",
   "metadata": {},
   "source": [
    "<span style=\"color: #ff1630;\">Signature:</span> cinetica(X, Y, conversao=False, grafico=False)\n",
    "\n",
    "<span style=\"color: #ff1630;\">Docstring:</span>\n",
    "\n",
    "X - lista de tempos\n",
    "\n",
    "Y - lista de concentrações\n",
    "\n",
    "se conversão = True, Y é uma lista de conversões\n",
    "\n",
    "Devolve k, n, Co e os erros associados\n",
    "\n",
    "Se conversao = True, devolve n e kCAo^{n-1}\n",
    "\n",
    "\n",
    "V0.9<span style=\"color: #ff1630;\">©FGF2022</span>\n",
    "\n",
    "<span style=\"color: #ff1630;\">File:</span>      erkin.py\n",
    "\n",
    "<span style=\"color: #ff1630;\">Type:</span>      function\n",
    "\n",
    "<div class=\"jp-RenderedHTMLCommon jp-RenderedMarkdown jp-MarkdownOutput \" data-mime-type=\"text/markdown\">\n",
    "        <p></p>\n",
    "        <hr style=\"border: 0pt none ; background-color: rgb(83, 79, 154); height: 5px;\">\n",
    "        <a href=\"./cine.html\"> Voltar ao início</a>"
   ]
  },
  {
   "cell_type": "markdown",
   "id": "6dced780",
   "metadata": {},
   "source": [
    "## ERA\n",
    "\n",
    "A instalação e o teste foram feitos atrás\n",
    "\n",
    "### 7 - Exemplo\n",
    "\n",
    "Numa folha de Jupyter faça o seguinte teste de k's em função de temperaturas em ºC"
   ]
  },
  {
   "cell_type": "code",
   "execution_count": 8,
   "id": "f46dfa6d",
   "metadata": {},
   "outputs": [
    {
     "data": {
      "text/latex": [
       "$\\displaystyle ko = 3,640\\ (\\pm 0,0417)\\times 10^{9}$"
      ],
      "text/plain": [
       "<IPython.core.display.Math object>"
      ]
     },
     "metadata": {},
     "output_type": "display_data"
    },
    {
     "data": {
      "text/latex": [
       "$\\displaystyle Ea\\ \\ (J/mol) = 5,37\\ (\\pm 0,100)\\times 10^{4}$"
      ],
      "text/plain": [
       "<IPython.core.display.Math object>"
      ]
     },
     "metadata": {},
     "output_type": "display_data"
    },
    {
     "data": {
      "image/png": "[encoded data removed]",
      "text/plain": [
       "<Figure size 640x480 with 1 Axes>"
      ]
     },
     "metadata": {},
     "output_type": "display_data"
    }
   ],
   "source": [
    "from erkin import ERA\n",
    "\n",
    "X=[20, 30, 40]\n",
    "Y=[1, 2, 4]\n",
    "fit, erros = ERA(X,Y, grafico=True)"
   ]
  },
  {
   "cell_type": "markdown",
   "id": "58c8d41a",
   "metadata": {},
   "source": [
    "### 8 - Exemplo\n",
    "\n",
    "Numa folha de Jupyter faça o seguinte teste de k's em função de temperaturas em K"
   ]
  },
  {
   "cell_type": "code",
   "execution_count": 9,
   "id": "9303089d",
   "metadata": {},
   "outputs": [
    {
     "data": {
      "text/latex": [
       "$\\displaystyle ko = 1,479\\ (\\pm 0,0609)\\times 10^{11}$"
      ],
      "text/plain": [
       "<IPython.core.display.Math object>"
      ]
     },
     "metadata": {},
     "output_type": "display_data"
    },
    {
     "data": {
      "text/latex": [
       "$\\displaystyle Ea\\ \\ (J/mol) = 6,35\\ (\\pm 0,166)\\times 10^{4}$"
      ],
      "text/plain": [
       "<IPython.core.display.Math object>"
      ]
     },
     "metadata": {},
     "output_type": "display_data"
    }
   ],
   "source": [
    "from erkin import ERA\n",
    "\n",
    "X=[293.15, 343.15, 323.15]\n",
    "Y=[1, 32, 8]\n",
    "\n",
    "Ans= ERA(X, Y, Kelvin = True)  "
   ]
  },
  {
   "cell_type": "markdown",
   "id": "9435cb7e",
   "metadata": {},
   "source": [
    "### 9  - Help"
   ]
  },
  {
   "cell_type": "code",
   "execution_count": 10,
   "id": "8fe0e0d0",
   "metadata": {},
   "outputs": [],
   "source": [
    "ERA?"
   ]
  },
  {
   "cell_type": "markdown",
   "id": "2ad2097f",
   "metadata": {},
   "source": [
    "<span style=\"color: #ff1630;\">Signature:</span> ERA(X, Y, Kelvin=False, grafico=False)\n",
    "\n",
    "<span style=\"color: #ff1630;\">Docstring:</span>\n",
    "\n",
    "X - lista de temperaturas (ºC)\n",
    "\n",
    "Y - lista de constantes de velocidade\n",
    "\n",
    "\n",
    "Se Kelvin = True X está em K.\n",
    "\n",
    "\n",
    "Devolve ko e Ea e os erros associados\n",
    "\n",
    "Se Kelvin != True, em primeiro lugar as temperaturas em ºC são transformadas em K\n",
    "\n",
    "\n",
    "V0.9<span style=\"color: #ff1630;\">©FGF2022</span>\n",
    "\n",
    "<span style=\"color: #ff1630;\">File:</span>      erkin.py\n",
    "\n",
    "<span style=\"color: #ff1630;\">Type:</span>      function\n",
    "\n",
    "<div class=\"jp-RenderedHTMLCommon jp-RenderedMarkdown jp-MarkdownOutput \" data-mime-type=\"text/markdown\">\n",
    "        <p></p>\n",
    "        <hr style=\"border: 0pt none ; background-color: rgb(83, 79, 154); height: 5px;\">\n",
    "        <a href=\"http://reactor.ist.utl.pt/python/cine.html\"> Voltar ao início</a>"
   ]
  }
 ],
 "metadata": {
  "kernelspec": {
   "display_name": "Python 3 (ipykernel)",
   "language": "python",
   "name": "python3"
  },
  "language_info": {
   "codemirror_mode": {
    "name": "ipython",
    "version": 3
   },
   "file_extension": ".py",
   "mimetype": "text/x-python",
   "name": "python",
   "nbconvert_exporter": "python",
   "pygments_lexer": "ipython3",
   "version": "3.10.6"
  },
  "latex_envs": {
   "LaTeX_envs_menu_present": true,
   "autoclose": false,
   "autocomplete": true,
   "bibliofile": "biblio.bib",
   "cite_by": "apalike",
   "current_citInitial": 1,
   "eqLabelWithNumbers": true,
   "eqNumInitial": 1,
   "hotkeys": {
    "equation": "Ctrl-E",
    "itemize": "Ctrl-I"
   },
   "labels_anchors": false,
   "latex_user_defs": false,
   "report_style_numbering": false,
   "user_envs_cfg": false
  }
 },
 "nbformat": 4,
 "nbformat_minor": 5
}
